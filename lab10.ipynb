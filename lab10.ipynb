{
 "cells": [
  {
   "cell_type": "code",
   "execution_count": 1,
   "metadata": {},
   "outputs": [
    {
     "name": "stdout",
     "output_type": "stream",
     "text": [
      "Requirement already satisfied: pyreadstat in c:\\python310\\lib\\site-packages (1.2.1)\n",
      "Requirement already satisfied: pandas>=1.2.0 in c:\\python310\\lib\\site-packages (from pyreadstat) (1.4.3)\n",
      "Requirement already satisfied: python-dateutil>=2.8.1 in c:\\python310\\lib\\site-packages (from pandas>=1.2.0->pyreadstat) (2.8.2)\n",
      "Requirement already satisfied: pytz>=2020.1 in c:\\python310\\lib\\site-packages (from pandas>=1.2.0->pyreadstat) (2023.3.post1)\n",
      "Requirement already satisfied: numpy>=1.21.0 in c:\\python310\\lib\\site-packages (from pandas>=1.2.0->pyreadstat) (1.23.1)\n",
      "Requirement already satisfied: six>=1.5 in c:\\users\\esteb\\appdata\\roaming\\python\\python310\\site-packages (from python-dateutil>=2.8.1->pandas>=1.2.0->pyreadstat) (1.12.0)\n"
     ]
    },
    {
     "name": "stderr",
     "output_type": "stream",
     "text": [
      "WARNING: Ignoring invalid distribution - (c:\\python310\\lib\\site-packages)\n",
      "WARNING: Ignoring invalid distribution -ensorflow-intel (c:\\python310\\lib\\site-packages)\n",
      "WARNING: Ignoring invalid distribution -ip (c:\\python310\\lib\\site-packages)\n",
      "WARNING: Ignoring invalid distribution - (c:\\python310\\lib\\site-packages)\n",
      "WARNING: Ignoring invalid distribution -ensorflow-intel (c:\\python310\\lib\\site-packages)\n",
      "WARNING: Ignoring invalid distribution -ip (c:\\python310\\lib\\site-packages)\n"
     ]
    }
   ],
   "source": [
    "!pip install pyreadstat"
   ]
  },
  {
   "cell_type": "code",
   "execution_count": 2,
   "metadata": {},
   "outputs": [
    {
     "name": "stdout",
     "output_type": "stream",
     "text": [
      "File saved as 'ENCOVI_Hogar.csv'\n"
     ]
    }
   ],
   "source": [
    "# Import required modules\n",
    "import pyreadstat\n",
    "import pandas as pd\n",
    "\n",
    "# Function to convert .sav to .csv\n",
    "def convert_sav_to_csv(sav_file_path, csv_file_path):\n",
    "    # Read the .sav file\n",
    "    df, meta = pyreadstat.read_sav(sav_file_path)\n",
    "    \n",
    "    # Save DataFrame to .csv\n",
    "    df.to_csv(csv_file_path, index=False)\n",
    "    print(f\"File saved as '{csv_file_path}'\")\n",
    "\n",
    "# Path to your .sav file\n",
    "sav_file_path = 'ENCOVI_Hogar.sav'\n",
    "\n",
    "# Desired path for your .csv file\n",
    "csv_file_path = 'ENCOVI_Hogar.csv'\n",
    "\n",
    "# Convert the file\n",
    "convert_sav_to_csv(sav_file_path, csv_file_path)\n"
   ]
  },
  {
   "cell_type": "code",
   "execution_count": 3,
   "metadata": {},
   "outputs": [
    {
     "name": "stdout",
     "output_type": "stream",
     "text": [
      "File saved as 'ENCOVI_Personas.csv'\n"
     ]
    }
   ],
   "source": [
    "# Import required modules\n",
    "import pyreadstat\n",
    "import pandas as pd\n",
    "\n",
    "# Function to convert .sav to .csv\n",
    "def convert_sav_to_csv(sav_file_path, csv_file_path):\n",
    "    # Read the .sav file\n",
    "    df, meta = pyreadstat.read_sav(sav_file_path)\n",
    "    \n",
    "    # Save DataFrame to .csv\n",
    "    df.to_csv(csv_file_path, index=False)\n",
    "    print(f\"File saved as '{csv_file_path}'\")\n",
    "\n",
    "# Path to your .sav file\n",
    "sav_file_path = 'ENCOVI_Personas.sav'\n",
    "\n",
    "# Desired path for your .csv file\n",
    "csv_file_path = 'ENCOVI_Personas.csv'\n",
    "\n",
    "# Convert the file\n",
    "convert_sav_to_csv(sav_file_path, csv_file_path)\n"
   ]
  }
 ],
 "metadata": {
  "kernelspec": {
   "display_name": "Python 3",
   "language": "python",
   "name": "python3"
  },
  "language_info": {
   "codemirror_mode": {
    "name": "ipython",
    "version": 3
   },
   "file_extension": ".py",
   "mimetype": "text/x-python",
   "name": "python",
   "nbconvert_exporter": "python",
   "pygments_lexer": "ipython3",
   "version": "3.10.4"
  }
 },
 "nbformat": 4,
 "nbformat_minor": 2
}
